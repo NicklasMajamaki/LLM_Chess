{
 "cells": [
  {
   "cell_type": "code",
   "execution_count": 2,
   "metadata": {},
   "outputs": [],
   "source": [
    "import pandas as pd\n",
    "import numpy as np\n",
    "import os"
   ]
  },
  {
   "cell_type": "code",
   "execution_count": 2,
   "metadata": {},
   "outputs": [],
   "source": [
    "# Parameters\n",
    "input_path = './raw/magpie_llama70b_00-of-13.parquet'\n",
    "output_dir = './train'\n",
    "num_samples = 10000\n",
    "output_filename = f'magpie_clean_{num_samples//1000}k.parquet' \n",
    "\n",
    "# Placeholder process_prompt function\n",
    "def process_prompt(prompt):\n",
    "    return f\"<|begin_of_text|><|start_header_id|>user<|end_header_id|>\\n{prompt}<|eot_id|>\\n<|start_header_id|>assistant<|end_header_id|>\"\n",
    "\n",
    "def process_response(response):\n",
    "    return f\"{response}<|eot_id|>\"\n",
    "\n",
    "# Load the Parquet file\n",
    "df = pd.read_parquet(input_path)"
   ]
  },
  {
   "cell_type": "code",
   "execution_count": 3,
   "metadata": {},
   "outputs": [
    {
     "name": "stdout",
     "output_type": "stream",
     "text": [
      "Saved 10000 samples to ./train\\magpie_clean_10k.parquet\n"
     ]
    }
   ],
   "source": [
    "# Randomly sample up to num_samples rows\n",
    "if num_samples < len(df):\n",
    "    df = df.sample(n=num_samples)\n",
    "else:\n",
    "    print(f\"Requested {num_samples} samples, but only {len(df)} available. Using all rows.\")\n",
    "\n",
    "# Create new columns and process prompt\n",
    "df_out = pd.DataFrame()\n",
    "df_out['prompt'] = df['instruction'].apply(process_prompt)\n",
    "df_out['completion'] = df['response'].apply(process_response)\n",
    "\n",
    "# Ensure output directory exists\n",
    "os.makedirs(output_dir, exist_ok=True)\n",
    "\n",
    "# Save to Parquet\n",
    "output_path = os.path.join(output_dir, output_filename)\n",
    "df_out.to_parquet(output_path, index=False)\n",
    "\n",
    "print(f\"Saved {len(df_out)} samples to {output_path}\")"
   ]
  },
  {
   "cell_type": "markdown",
   "metadata": {},
   "source": [
    "# Optionally view our datasets after creating\n",
    "---\n"
   ]
  },
  {
   "cell_type": "code",
   "execution_count": 58,
   "metadata": {},
   "outputs": [],
   "source": [
    "# Set your parquet file path here\n",
    "# parquet_path = './train/magpie_clean_10k.parquet'\n",
    "parquet_path = './train/explainer_clean_1k.parquet'\n",
    "# parquet_path = './train/explanation_traindata_1k_cleaned.parquet'\n",
    "\n",
    "# Load the parquet file once\n",
    "view_df = pd.read_parquet(parquet_path)"
   ]
  },
  {
   "cell_type": "code",
   "execution_count": 57,
   "metadata": {},
   "outputs": [
    {
     "name": "stdout",
     "output_type": "stream",
     "text": [
      "Saved processed prompts to ./train/explainer_clean_1k.parquet\n"
     ]
    }
   ],
   "source": [
    "# # Old code used to process pre-generated data \n",
    "# def split_prompt_completion(text):\n",
    "#     \"\"\"\n",
    "#     Splits the input string into 'prompt' and 'completion' based on the marker.\n",
    "#     Returns (prompt, completion).\n",
    "#     \"\"\"\n",
    "#     marker = '<|start_header_id|>assistant<|end_header_id|>'\n",
    "#     idx = text.find(marker)\n",
    "#     prompt = text[:idx + len(marker)]\n",
    "#     completion = text[idx + len(marker):]\n",
    "#     return prompt, completion\n",
    "\n",
    "# # Loop through all rows, process, and collect results\n",
    "# prompts = []\n",
    "# completions = []\n",
    "\n",
    "# for idx, row in view_df.iterrows():\n",
    "#     prompt, completion = split_prompt_completion(row['prompt'])\n",
    "#     prompts.append(prompt)\n",
    "#     completions.append(completion)\n",
    "\n",
    "# # Create new DataFrame\n",
    "# df_processed = pd.DataFrame({\n",
    "#     'prompt': prompts,\n",
    "#     'completion': completions\n",
    "# })\n",
    "\n",
    "# # Save to Parquet\n",
    "# output_path = './train/explainer_clean_1k.parquet'\n",
    "# df_processed.to_parquet(output_path, index=False)\n",
    "# print(f\"Saved processed prompts to {output_path}\")"
   ]
  },
  {
   "cell_type": "code",
   "execution_count": 76,
   "metadata": {},
   "outputs": [
    {
     "name": "stdout",
     "output_type": "stream",
     "text": [
      "--- Sample 643 ---\n",
      "Prompt:\n",
      " <|begin_of_text|>\n",
      "<|start_header_id|>system<|end_header_id|>\n",
      "You are a chess grandmaster currently playing a very strong opponent. Assume they will be playing optimally. \n",
      "\n",
      "Shortly you'll be provided with a board state by the user -- please analyze it and think through your possible moves.\n",
      "\n",
      "You should refer to moves in UCI notation (e.g., d7d5) and should include your thinking in think tags (e.g., <think> your_thinking </think>) and your answer in answer tags (e.g., <answer> UCI_move </answer>). \n",
      "\n",
      "As a technique you may want to consider enumerating possible moves and simulating the likely trajectory that would ensue. <|eot_id|>\n",
      "<|start_header_id|>user<|end_header_id|>\n",
      "8| r . b q k b . r\n",
      "7| p p p . . p p .\n",
      "6| . . n . . . . .\n",
      "5| . . . p . . . p\n",
      "4| . . . P n . . .\n",
      "3| . . . B P N . .\n",
      "2| P P . . . P P P\n",
      "1| R N B Q . R K .\n",
      "   _ _ _ _ _ _ _ _\n",
      "   A B C D E F G H\n",
      "\n",
      "- It is White’s turn to move.\n",
      "- Castling rights: Black can castle kingside, Black can castle queenside.\n",
      "- No en passant target square.\n",
      "- Halfmove clock: 0\n",
      "- Fullmove number: 8 <|eot_id|>\n",
      "<|start_header_id|>assistant<|end_header_id|>\n",
      "\n",
      "Response:\n",
      " \n",
      "Great let's think through this position.\n",
      "<think>\n",
      "We could try playing white knight moves to e1 (f3e1).\n",
      "| A smart move from them could be black knight moves to d6 (e4d6).\n",
      "| | Ok, then we could play white knight moves to f3 (e1f3).\n",
      "| | | They could respond with black bishop moves to e6 (c8e6). They could instead move black bishop moves to e7 (f8e7). If they play optimally, they would choose black bishop moves to e7 (f8e7).\n",
      "This line leaves things mostly even, perhaps slightly ahead for us.\n",
      "\n",
      "Ok let's consider starting with white bishop moves to b5 (d3b5). Actually, this isn't a great idea.\n",
      "\n",
      "Let's consider playing white bishop moves to e2 (d3e2).\n",
      "| They might play black bishop moves to g4 (c8g4) in response.\n",
      "| | We could consider following with white bishop moves to d2 (c1d2).\n",
      "| | | From here they'll likely consider black queen moves to f6 (d8f6). They could also consider black queen moves to d7 (d8d7). If they play optimally, they would choose black queen moves to d7 (d8d7).\n",
      "This position seems slightly better for the opponent.\n",
      "\n",
      "Let's think through white queen moves to b3 (d1b3).\n",
      "| From here they'll likely consider black bishop moves to e6 (c8e6).\n",
      "| | We could follow with white knight moves to c3 (b1c3).\n",
      "| | | They might play black queen moves to d7 (d8d7) in response.\n",
      "| | What if instead we moved white pawn moves to a3 (a2a3)?\n",
      "| | | A smart move from them could be black rook moves to b8 (a8b8).\n",
      "| | Given the likely outcome of each of our possible moves (b1c3 and a2a3), we should choose white knight moves to c3 (b1c3).\n",
      "| They could also answer with black knight moves to b4 (c6b4).\n",
      "| | We could consider following with white bishop moves to e2 (d3e2).\n",
      "| | | They might play black bishop moves to d6 (f8d6) in response.\n",
      "| Knowing how each line would likely play out, from their moves (c8e6 and c6b4) the opponent would likely choose black knight moves to b4 (c6b4).\n",
      "The resulting position appears to give us a minimal edge.\n",
      "\n",
      "What if we played white knight moves to c3 (b1c3)?\n",
      "| They could respond with black bishop moves to f5 (c8f5).\n",
      "| | We could follow with white queen moves to b3 (d1b3).\n",
      "| | | A strong response from them would be black knight moves to d2 (e4d2).\n",
      "The resulting position seems to give us a small edge.\n",
      "\n",
      "Given how these various moves would play out, we should pick white knight moves to c3 (b1c3).\n",
      "</think>\n",
      "\n",
      "<answer> b1c3 </answer>\n",
      "<eot_id>\n",
      "\n",
      "========================================\n",
      "\n"
     ]
    }
   ],
   "source": [
    "# Helper function\n",
    "def print_random_sample(n=1):\n",
    "    \"\"\"Print n random samples from the dataframe.\"\"\"\n",
    "    sample = view_df.sample(n=n)\n",
    "    for idx, row in sample.iterrows():\n",
    "        print(f\"--- Sample {idx} ---\")\n",
    "        print(\"Prompt:\\n\", row['prompt'])\n",
    "        print(\"\\nResponse:\\n\", row['completion'])\n",
    "        print(\"\\n\" + \"=\"*40 + \"\\n\")\n",
    "\n",
    "# Call this function to print a random sample\n",
    "print_random_sample()  # You can change the argument to print more than one sample"
   ]
  }
 ],
 "metadata": {
  "kernelspec": {
   "display_name": "llm_chess",
   "language": "python",
   "name": "python3"
  },
  "language_info": {
   "codemirror_mode": {
    "name": "ipython",
    "version": 3
   },
   "file_extension": ".py",
   "mimetype": "text/x-python",
   "name": "python",
   "nbconvert_exporter": "python",
   "pygments_lexer": "ipython3",
   "version": "3.11.11"
  }
 },
 "nbformat": 4,
 "nbformat_minor": 2
}
