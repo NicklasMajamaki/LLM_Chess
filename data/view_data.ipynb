{
 "cells": [
  {
   "cell_type": "code",
   "execution_count": null,
   "id": "4f056c0d",
   "metadata": {},
   "outputs": [],
   "source": [
    "import os\n",
    "import re\n",
    "import json\n",
    "import random\n",
    "import pandas as pd"
   ]
  },
  {
   "cell_type": "code",
   "execution_count": 59,
   "id": "76399322",
   "metadata": {},
   "outputs": [
    {
     "name": "stdout",
     "output_type": "stream",
     "text": [
      "Loaded 1000 items from JSONL file magpieclean_1k.jsonl.\n",
      "Shuffled 1000 items.\n"
     ]
    }
   ],
   "source": [
    "parent_dir = \"raw/processed_magpie\"\n",
    "filename = \"magpieclean_1k.jsonl\"\n",
    "filepath = os.path.join(parent_dir, filename)\n",
    "\n",
    "# Load data agnostic to parquet / json / jsonl\n",
    "if filename.endswith('.parquet'):\n",
    "    df = pd.read_parquet(filepath)\n",
    "    data = df.to_dict('records')\n",
    "    print(f\"Loaded {len(data)} items from parquet file {filename}.\")\n",
    "elif filename.endswith('.json'):\n",
    "    with open(filepath, 'r') as f:\n",
    "        data = json.load(f)\n",
    "    print(f\"Loaded {len(data)} items from JSON file {filename}.\")\n",
    "elif filename.endswith('.jsonl'):\n",
    "    data = []\n",
    "    with open(filepath, 'r', encoding='utf-8') as f:\n",
    "        for line in f:\n",
    "            data.append(json.loads(line))\n",
    "    print(f\"Loaded {len(data)} items from JSONL file {filename}.\")\n",
    "else:\n",
    "    raise ValueError(f\"Unsupported file format: {filename}. Please use .parquet, .json, or .jsonl files.\")\n",
    "\n",
    "random.shuffle(data)\n",
    "print(f\"Shuffled {len(data)} items.\")"
   ]
  },
  {
   "cell_type": "code",
   "execution_count": 65,
   "id": "9a31297f",
   "metadata": {},
   "outputs": [
    {
     "name": "stdout",
     "output_type": "stream",
     "text": [
      "Role: system\n",
      "--------------------\n",
      "llama4_default_sysprompt.txt\n",
      "\n",
      "\n",
      "Role: user\n",
      "--------------------\n",
      "### Introduction to Relational Databases\n",
      "\n",
      "\n",
      "Role: assistant\n",
      "--------------------\n",
      "**Introduction to Relational Databases**\n",
      "=====================================\n",
      "\n",
      "A relational database is a type of database that stores and provides access to data that is related to each other. It is based on the relational model, which was introduced by Edgar F. Codd in 1969. Relational databases are widely used in many applications, including web applications, mobile apps, and enterprise software.\n",
      "\n",
      "**Key Features of Relational Databases**\n",
      "--------------------------------------\n",
      "\n",
      "1. **Tables**: Relational databases store data in tables, which are also known as relations. Each table has rows and columns, where each row represents a single record and each column represents a field or attribute of that record.\n",
      "2. **Columns**: Each column in a table has a specific data type, such as integer, string, or date.\n",
      "3. **Primary Key**: Each table has a primary key, which is a unique identifier for each row in the table.\n",
      "4. **Foreign Key**: A foreign key is a field in a table that refers to the primary key of another table.\n",
      "5. **Relationships**: Relational databases support various types of relationships between tables, including one-to-one, one-to-many, and many-to-many relationships.\n",
      "\n",
      "**Advantages of Relational Databases**\n",
      "--------------------------------------\n",
      "\n",
      "1. **Data Consistency**: Relational databases ensure data consistency by enforcing relationships between tables and preventing data duplication.\n",
      "2. **Data Integrity**: Relational databases ensure data integrity by enforcing rules and constraints on the data, such as primary and foreign key constraints.\n",
      "3. **Scalability**: Relational databases are highly scalable and can handle large amounts of data and user traffic.\n",
      "4. **Querying**: Relational databases support complex querying using SQL (Structured Query Language), which allows users to retrieve and manipulate data in a flexible and efficient way.\n",
      "\n",
      "**Common Relational Database Management Systems (RDBMS)**\n",
      "---------------------------------------------------------\n",
      "\n",
      "1. **MySQL**: An open-source RDBMS widely used in web applications.\n",
      "2. **PostgreSQL**: An open-source RDBMS known for its reliability and data integrity features.\n",
      "3. **Microsoft SQL Server**: A commercial RDBMS developed by Microsoft.\n",
      "4. **Oracle**: A commercial RDBMS developed by Oracle Corporation.\n",
      "\n",
      "**SQL Basics**\n",
      "-------------\n",
      "\n",
      "SQL (Structured Query Language) is a standard language for managing relational databases. Here are some basic SQL concepts:\n",
      "\n",
      "1. **SELECT**: Retrieves data from a database table.\n",
      "2. **INSERT**: Inserts new data into a database table.\n",
      "3. **UPDATE**: Updates existing data in a database table.\n",
      "4. **DELETE**: Deletes data from a database table.\n",
      "5. **CREATE**: Creates a new database table or other database object.\n",
      "6. **DROP**: Deletes a database table or other database object.\n",
      "\n",
      "**Example Use Case**\n",
      "--------------------\n",
      "\n",
      "Suppose we have an e-commerce application that uses a relational database to store customer information, order data, and product information. We can use SQL to retrieve the names and addresses of all customers who have placed an order in the last month:\n",
      "```sql\n",
      "SELECT c.name, c.address\n",
      "FROM customers c\n",
      "JOIN orders o ON c.customer_id = o.customer_id\n",
      "WHERE o.order_date > NOW() - INTERVAL 1 MONTH;\n",
      "```\n",
      "This query joins the `customers` table with the `orders` table on the `customer_id` field and retrieves the `name` and `address` fields from the `customers` table for customers who have placed an order in the last month.\n",
      "\n",
      "\n"
     ]
    }
   ],
   "source": [
    "# Randomly sample / print data\n",
    "sample = random.choice(data)\n",
    "# print(sample)\n",
    "\n",
    "for role, content in sample['chat']:\n",
    "    print(f\"Role: {role}\\n{'-'*20}\\n{content}\\n\\n\")\n",
    "\n",
    "if 'info' in sample:\n",
    "    print(f\"Info:\\n{'-'*20}\\n{sample['info']}\")"
   ]
  },
  {
   "cell_type": "markdown",
   "id": "ca5d814f",
   "metadata": {},
   "source": [
    "## Code to clean up / concatenate existing data"
   ]
  },
  {
   "cell_type": "code",
   "execution_count": 35,
   "id": "0b24f6c7",
   "metadata": {},
   "outputs": [
    {
     "name": "stdout",
     "output_type": "stream",
     "text": [
      "Saved 5350 dialogues to explainer_data\\combined_chessexplainer.jsonl\n"
     ]
    }
   ],
   "source": [
    "# Example usage:\n",
    "parent_dir = \"explainer_data\"\n",
    "filenames = [\n",
    "    \"explainer_clean_100_1558_15.parquet\",\n",
    "    \"explainer_clean_1250.parquet\",\n",
    "    \"explanations_0_1000_0104_16.parquet\",\n",
    "    \"explanations_1_1000_0330_16.parquet\",\n",
    "    \"explanations_2_1000_0557_16.parquet\",\n",
    "    \"explanations_3_1000_0826_16.parquet\"\n",
    "]\n",
    "filepaths = [os.path.join(parent_dir, fn) for fn in filenames]\n",
    "output_file = \"combined_chessexplainer.jsonl\"\n",
    "system_prompt_file = \"chess_task_sysprompt.txt\"  # Or \"llama4_default_sysprompt.txt\"\n",
    "\n",
    "\n",
    "HEADER_PATTERN = re.compile(\n",
    "    r\"<\\|start_header_id\\|>(\\w+)<\\|end_header_id\\|>\\n?(.*?)(?=(<\\|start_header_id\\|>|\\Z|<\\|eot_id\\|>))\",\n",
    "    re.DOTALL\n",
    ")\n",
    "\n",
    "def extract_dialogue(sample):\n",
    "    text = sample['prompt']\n",
    "    result = []\n",
    "    for match in HEADER_PATTERN.finditer(text):\n",
    "        role, content = match.group(1), match.group(2).strip()\n",
    "        # Remove Llama tags and both eot_id types\n",
    "        content = re.sub(r\"<\\|.*?\\|>|<eot_id>\", \"\", content).strip()\n",
    "        if role == \"system\":\n",
    "            content = \"chess_task_sysprompt.txt\"\n",
    "        if role == \"user\":\n",
    "            prefix = \"Here is a board in a game you're currently playing. I want you to think through some possible moves you could make and how those moves will likely play out. You may find it helpful to roll-out each line assuming your opponent plays near-optimally. You may also find it helpful to consider the value of the final board state after each roll-out.\\n\\nAfter you think through your various moves, please end by telling me your chosen move (in UCI notation) within answer tags.\\n\\n\"\n",
    "            content = prefix + content\n",
    "        if content:\n",
    "            result.append((role, content))\n",
    "    completion = sample.get('completion', '').strip()\n",
    "    completion = re.sub(r'(<\\|eot_id\\|>|<eot_id>)\\s*$', '', completion).strip()\n",
    "    if completion:\n",
    "        result.append(('assistant', completion))\n",
    "    return result\n",
    "\n",
    "def convert_and_save(parquet_paths, output_path):\n",
    "    all_dialogues = []\n",
    "    for path in parquet_paths:\n",
    "        df = pd.read_parquet(path)\n",
    "        all_dialogues.extend(\n",
    "            {\"chat\": extract_dialogue(row)} for row in df.to_dict('records')\n",
    "        )\n",
    "    # Save as JSONL\n",
    "    with open(output_path, 'w', encoding='utf-8') as f:\n",
    "        for d in all_dialogues:\n",
    "            json.dump(d, f, ensure_ascii=False)\n",
    "            f.write('\\n')\n",
    "    print(f\"Saved {len(all_dialogues)} dialogues to {output_path}\")\n",
    "\n",
    "\n",
    "output_path = os.path.join(parent_dir, output_file)\n",
    "convert_and_save(filepaths, output_path)"
   ]
  }
 ],
 "metadata": {
  "kernelspec": {
   "display_name": "llm_chess",
   "language": "python",
   "name": "python3"
  },
  "language_info": {
   "codemirror_mode": {
    "name": "ipython",
    "version": 3
   },
   "file_extension": ".py",
   "mimetype": "text/x-python",
   "name": "python",
   "nbconvert_exporter": "python",
   "pygments_lexer": "ipython3",
   "version": "3.11.11"
  }
 },
 "nbformat": 4,
 "nbformat_minor": 5
}
