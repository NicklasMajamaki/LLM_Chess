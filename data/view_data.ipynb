{
 "cells": [
  {
   "cell_type": "code",
   "execution_count": null,
   "id": "4f056c0d",
   "metadata": {},
   "outputs": [],
   "source": [
    "import os\n",
    "import re\n",
    "import json\n",
    "import random\n",
    "import pandas as pd"
   ]
  },
  {
   "cell_type": "code",
   "execution_count": 37,
   "id": "76399322",
   "metadata": {},
   "outputs": [
    {
     "name": "stdout",
     "output_type": "stream",
     "text": [
      "Loaded 5350 items from JSONL file combined_chessexplainer.jsonl.\n",
      "Shuffled 5350 items.\n"
     ]
    }
   ],
   "source": [
    "parent_dir = \"explainer_data\"\n",
    "filename = \"combined_chessexplainer.jsonl\"\n",
    "filepath = os.path.join(parent_dir, filename)\n",
    "\n",
    "# Load data agnostic to parquet / json / jsonl\n",
    "if filename.endswith('.parquet'):\n",
    "    df = pd.read_parquet(filepath)\n",
    "    data = df.to_dict('records')\n",
    "    print(f\"Loaded {len(data)} items from parquet file {filename}.\")\n",
    "elif filename.endswith('.json'):\n",
    "    with open(filepath, 'r') as f:\n",
    "        data = json.load(f)\n",
    "    print(f\"Loaded {len(data)} items from JSON file {filename}.\")\n",
    "elif filename.endswith('.jsonl'):\n",
    "    data = []\n",
    "    with open(filepath, 'r', encoding='utf-8') as f:\n",
    "        for line in f:\n",
    "            data.append(json.loads(line))\n",
    "    print(f\"Loaded {len(data)} items from JSONL file {filename}.\")\n",
    "else:\n",
    "    raise ValueError(f\"Unsupported file format: {filename}. Please use .parquet, .json, or .jsonl files.\")\n",
    "\n",
    "random.shuffle(data)\n",
    "print(f\"Shuffled {len(data)} items.\")"
   ]
  },
  {
   "cell_type": "code",
   "execution_count": 44,
   "id": "9a31297f",
   "metadata": {},
   "outputs": [
    {
     "name": "stdout",
     "output_type": "stream",
     "text": [
      "Role: system\n",
      "--------------------\n",
      "chess_task_sysprompt.txt\n",
      "\n",
      "\n",
      "Role: user\n",
      "--------------------\n",
      "Here is a board in a game you're currently playing. I want you to think through some possible moves you could make and how those moves will likely play out. You may find it helpful to roll-out each line assuming your opponent plays near-optimally. You may also find it helpful to consider the value of the final board state after each roll-out.\n",
      "\n",
      "After you think through your various moves, please end by telling me your chosen move (in UCI notation) within answer tags.\n",
      "\n",
      "8| r . . . . . . .\n",
      "7| p p k . q . p p\n",
      "6| . . . . . . . .\n",
      "5| P . n Q . . . .\n",
      "4| . . B . . . . .\n",
      "3| . . . . . . P b\n",
      "2| . . n . . P . P\n",
      "1| R . . . . . K .\n",
      "   _ _ _ _ _ _ _ _\n",
      "   A B C D E F G H\n",
      "\n",
      "- It is White’s turn to move.\n",
      "- No castling rights available.\n",
      "- No en passant target square.\n",
      "- Halfmove clock: 2\n",
      "- Fullmove number: 25\n",
      "\n",
      "\n",
      "Role: assistant\n",
      "--------------------\n",
      "Interesting, let's consider some moves here.\n",
      "<think>\n",
      "Ok, what if we played white queen moves to f3 (d5f3)? Nevermind - let's consider something else.\n",
      "\n",
      "We could play white rook moves to f1 (a1f1).\n",
      "| They could respond with black rook moves to d8 (a8d8).\n",
      "| | What if we then played white queen moves to f3 (d5f3)?\n",
      "| | | They could respond with black knight moves to d4 (c2d4).\n",
      "| | Instead we could move white queen moves to h5 (d5h5).\n",
      "| | | From here they'll likely consider black bishop captures the rook on f1 (h3f1).\n",
      "| | Following our analysis of how each move would play out from d5f3 and d5h5, the best move for us would be white queen moves to h5 (d5h5).\n",
      "The resulting position leaves us with very little chance to come back.\n",
      "\n",
      "What if we played white rook moves to b1 (a1b1)?\n",
      "| They might play black rook moves to d8 (a8d8) in response.\n",
      "| | We could follow with white queen moves to f3 (d5f3).\n",
      "| | | They could respond with black queen moves to e4 (e7e4).\n",
      "| | Ok we could instead play white queen moves to h5 (d5h5).\n",
      "| | | They could respond with black knight moves to a3 (c2a3).\n",
      "| | Given the likely outcome of each of our possible moves (d5f3 and d5h5), we should choose white queen moves to h5 (d5h5).\n",
      "The resulting position leaves us with very little chance to come back.\n",
      "\n",
      "Ok let's consider starting with white rook moves to c1 (a1c1).\n",
      "| A smart move from them could be black rook moves to d8 (a8d8).\n",
      "| | What if we then played white queen moves to h5 (d5h5)?\n",
      "| | | A smart move from them could be black bishop moves to d7 (h3d7). They could also answer with black rook moves to d2 (d8d2). I would expect them to play black bishop moves to d7 (h3d7) as that is their better move.\n",
      "The resulting position has us on the verge of losing.\n",
      "\n",
      "Let's consider playing white rook moves to d1 (a1d1). Actually, this isn't a great idea.\n",
      "\n",
      "Given how these various moves would play out, we should pick white rook moves to c1 (a1c1).\n",
      "</think>\n",
      "\n",
      "<answer> a1c1 </answer>\n",
      "\n",
      "\n"
     ]
    }
   ],
   "source": [
    "# Randomly sample / print data\n",
    "sample = random.choice(data)\n",
    "# print(sample)\n",
    "\n",
    "for role, content in sample['chat']:\n",
    "    print(f\"Role: {role}\\n{'-'*20}\\n{content}\\n\\n\")"
   ]
  },
  {
   "cell_type": "markdown",
   "id": "ca5d814f",
   "metadata": {},
   "source": [
    "## Code to clean up / concatenate existing data"
   ]
  },
  {
   "cell_type": "code",
   "execution_count": 35,
   "id": "0b24f6c7",
   "metadata": {},
   "outputs": [
    {
     "name": "stdout",
     "output_type": "stream",
     "text": [
      "Saved 5350 dialogues to explainer_data\\combined_chessexplainer.jsonl\n"
     ]
    }
   ],
   "source": [
    "# Example usage:\n",
    "parent_dir = \"explainer_data\"\n",
    "filenames = [\n",
    "    \"explainer_clean_100_1558_15.parquet\",\n",
    "    \"explainer_clean_1250.parquet\",\n",
    "    \"explanations_0_1000_0104_16.parquet\",\n",
    "    \"explanations_1_1000_0330_16.parquet\",\n",
    "    \"explanations_2_1000_0557_16.parquet\",\n",
    "    \"explanations_3_1000_0826_16.parquet\"\n",
    "]\n",
    "filepaths = [os.path.join(parent_dir, fn) for fn in filenames]\n",
    "output_file = \"combined_chessexplainer.jsonl\"\n",
    "system_prompt_file = \"chess_task_sysprompt.txt\"  # Or \"llama4_default_sysprompt.txt\"\n",
    "\n",
    "\n",
    "HEADER_PATTERN = re.compile(\n",
    "    r\"<\\|start_header_id\\|>(\\w+)<\\|end_header_id\\|>\\n?(.*?)(?=(<\\|start_header_id\\|>|\\Z|<\\|eot_id\\|>))\",\n",
    "    re.DOTALL\n",
    ")\n",
    "\n",
    "def extract_dialogue(sample):\n",
    "    text = sample['prompt']\n",
    "    result = []\n",
    "    for match in HEADER_PATTERN.finditer(text):\n",
    "        role, content = match.group(1), match.group(2).strip()\n",
    "        # Remove Llama tags and both eot_id types\n",
    "        content = re.sub(r\"<\\|.*?\\|>|<eot_id>\", \"\", content).strip()\n",
    "        if role == \"system\":\n",
    "            content = \"chess_task_sysprompt.txt\"\n",
    "        if role == \"user\":\n",
    "            prefix = \"Here is a board in a game you're currently playing. I want you to think through some possible moves you could make and how those moves will likely play out. You may find it helpful to roll-out each line assuming your opponent plays near-optimally. You may also find it helpful to consider the value of the final board state after each roll-out.\\n\\nAfter you think through your various moves, please end by telling me your chosen move (in UCI notation) within answer tags.\\n\\n\"\n",
    "            content = prefix + content\n",
    "        if content:\n",
    "            result.append((role, content))\n",
    "    completion = sample.get('completion', '').strip()\n",
    "    completion = re.sub(r'(<\\|eot_id\\|>|<eot_id>)\\s*$', '', completion).strip()\n",
    "    if completion:\n",
    "        result.append(('assistant', completion))\n",
    "    return result\n",
    "\n",
    "def convert_and_save(parquet_paths, output_path):\n",
    "    all_dialogues = []\n",
    "    for path in parquet_paths:\n",
    "        df = pd.read_parquet(path)\n",
    "        all_dialogues.extend(\n",
    "            {\"chat\": extract_dialogue(row)} for row in df.to_dict('records')\n",
    "        )\n",
    "    # Save as JSONL\n",
    "    with open(output_path, 'w', encoding='utf-8') as f:\n",
    "        for d in all_dialogues:\n",
    "            json.dump(d, f, ensure_ascii=False)\n",
    "            f.write('\\n')\n",
    "    print(f\"Saved {len(all_dialogues)} dialogues to {output_path}\")\n",
    "\n",
    "\n",
    "output_path = os.path.join(parent_dir, output_file)\n",
    "convert_and_save(filepaths, output_path)"
   ]
  }
 ],
 "metadata": {
  "kernelspec": {
   "display_name": "llm_chess",
   "language": "python",
   "name": "python3"
  },
  "language_info": {
   "codemirror_mode": {
    "name": "ipython",
    "version": 3
   },
   "file_extension": ".py",
   "mimetype": "text/x-python",
   "name": "python",
   "nbconvert_exporter": "python",
   "pygments_lexer": "ipython3",
   "version": "3.11.11"
  }
 },
 "nbformat": 4,
 "nbformat_minor": 5
}
