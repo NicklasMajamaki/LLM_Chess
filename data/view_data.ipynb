{
 "cells": [
  {
   "cell_type": "code",
   "execution_count": null,
   "id": "4f056c0d",
   "metadata": {},
   "outputs": [],
   "source": [
    "import os\n",
    "import json\n",
    "import random\n",
    "import pandas as pd"
   ]
  },
  {
   "cell_type": "code",
   "execution_count": 6,
   "id": "76399322",
   "metadata": {},
   "outputs": [
    {
     "name": "stdout",
     "output_type": "stream",
     "text": [
      "Loaded 100 items from parquet file explainer_clean_100_1558_15.parquet.\n",
      "Shuffled 100 items.\n"
     ]
    }
   ],
   "source": [
    "parent_dir = \"explainer_data\"\n",
    "filename = \"explainer_clean_100_1558_15.parquet\"\n",
    "filepath = os.path.join(parent_dir, filename)\n",
    "\n",
    "# Load data agnostic to parquet / json\n",
    "if filename.endswith('.parquet'):\n",
    "    df = pd.read_parquet(filepath)\n",
    "    data = df.to_dict('records')\n",
    "    print(f\"Loaded {len(data)} items from parquet file {filename}.\")\n",
    "elif filename.endswith('.json'):\n",
    "    with open(filepath, 'r') as f:\n",
    "        data = json.load(f)\n",
    "    print(f\"Loaded {len(data)} items from JSON file {filename}.\")\n",
    "else:\n",
    "    raise ValueError(f\"Unsupported file format: {filename}. Please use .parquet or .json files.\")\n",
    "\n",
    "random.shuffle(data)\n",
    "print(f\"Shuffled {len(data)} items.\")"
   ]
  },
  {
   "cell_type": "code",
   "execution_count": 7,
   "id": "9a31297f",
   "metadata": {},
   "outputs": [
    {
     "name": "stdout",
     "output_type": "stream",
     "text": [
      "{'prompt': \"<|begin_of_text|><|start_header_id|>system<|end_header_id|>\\nYou are a chess grandmaster currently playing a very strong opponent. Assume they will be playing optimally. \\n\\nShortly you'll be provided with a board state by the user -- please analyze it and think through your possible moves.\\n\\nYou should refer to moves in UCI notation (e.g., d7d5) and should include your thinking in think tags (e.g., <think> your_thinking </think>) and your answer in answer tags (e.g., <answer> UCI_move </answer>). \\n\\nAs a technique you may want to consider enumerating possible moves and simulating the likely trajectory that would ensue.<|eot_id|>\\n<|start_header_id|>user<|end_header_id|>\\n8| r . . . . r k .\\n7| . b . . n p p p\\n6| p . p R p . . .\\n5| . . p . P . . .\\n4| . . . . . . . .\\n3| P . N . . N . .\\n2| . P P . . P P P\\n1| . . K . . . . R\\n   _ _ _ _ _ _ _ _\\n   A B C D E F G H\\n\\n- It is White’s turn to move.\\n- No castling rights available.\\n- No en passant target square.\\n- Halfmove clock: 2\\n- Fullmove number: 17<|eot_id|>\\n<|start_header_id|>assistant<|end_header_id|>\", 'completion': \"Let's think through this.\\n<think> How about we analyze the line starting with white knight moves to d2 (f3d2)? Hold that, this seems like a bad direction. Let's consider other lines.\\n\\nLet's think through white knight moves to g5 (f3g5).\\n| From here they'll likely consider black knight moves to f5 (e7f5).\\n| | We could then respond with white rook moves to d7 (d6d7).\\n| | | They might play black rook moves to b8 (a8b8) in response. They could instead move black bishop moves to c8 (b7c8). I would expect them to play black rook moves to b8 (a8b8) as that is their better move.\\nAfter these moves, we maintain a solid advantage.\\n\\nWhat if we played white knight moves to e4 (c3e4)? Actually - this doesn't look promising. Let's think through other moves.\\n\\nWhat if we played white knight moves to a4 (c3a4)?\\n| They could respond with black knight moves to f5 (e7f5).\\n| | We could consider following with white rook moves to d7 (d6d7).\\n| | | A smart move from them could be black bishop moves to c8 (b7c8).\\nThis sequence leaves us with fair chance of winning.\\n\\nWe could try playing white rook moves to d7 (d6d7).\\n| A smart move from them could be black knight moves to d5 (e7d5).\\n| | We could then respond with white knight captures the knight on d5 (c3d5).\\n| | | A smart move from them could be black pawn captures the knight on d5 (c6d5).\\n| | Another possible move for us could be white rook captures the bishop on b7 (d7b7).\\n| | | A smart move from them could be black knight captures the knight on c3 (d5c3).\\n| | Given the likely outcome of each of our possible moves (c3d5 and d7b7), we should choose white rook captures the bishop on b7 (d7b7).\\nThis leaves us with a board that is clearly to our advantage.\\n\\nAfter analyzing these lines, our best move would be to choose white rook moves to d7 (d6d7). </think>\\n\\n<answer> d6d7 </answer><|eot_id|>\"}\n"
     ]
    }
   ],
   "source": [
    "# Randomly sample / print data\n",
    "sample = random.choice(data)\n",
    "print(sample)"
   ]
  }
 ],
 "metadata": {
  "kernelspec": {
   "display_name": "llm_chess",
   "language": "python",
   "name": "python3"
  },
  "language_info": {
   "codemirror_mode": {
    "name": "ipython",
    "version": 3
   },
   "file_extension": ".py",
   "mimetype": "text/x-python",
   "name": "python",
   "nbconvert_exporter": "python",
   "pygments_lexer": "ipython3",
   "version": "3.11.11"
  }
 },
 "nbformat": 4,
 "nbformat_minor": 5
}
