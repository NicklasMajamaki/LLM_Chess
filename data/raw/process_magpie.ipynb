{
 "cells": [
  {
   "cell_type": "code",
   "execution_count": 1,
   "metadata": {},
   "outputs": [],
   "source": [
    "import pandas as pd\n",
    "import numpy as np\n",
    "import os"
   ]
  },
  {
   "cell_type": "code",
   "execution_count": 2,
   "metadata": {},
   "outputs": [],
   "source": [
    "# Parameters\n",
    "input_path = './magpie_data/magpie_llama70b_00-of-13.parquet'\n",
    "output_dir = './processed_magpie'\n",
    "num_samples = 30000\n",
    "output_filename = f'magpie_clean_{num_samples//1000}k.parquet' \n",
    "\n",
    "# Placeholder process_prompt function\n",
    "def process_prompt(prompt):\n",
    "    return f\"<|begin_of_text|><|start_header_id|>user<|end_header_id|>\\n{prompt}<|eot_id|>\\n<|start_header_id|>assistant<|end_header_id|>\"\n",
    "\n",
    "def process_response(response):\n",
    "    return f\"{response}<|eot_id|>\"\n",
    "\n",
    "# Load the Parquet file\n",
    "df = pd.read_parquet(input_path)"
   ]
  },
  {
   "cell_type": "code",
   "execution_count": 3,
   "metadata": {},
   "outputs": [
    {
     "name": "stdout",
     "output_type": "stream",
     "text": [
      "Saved 30000 samples to ./processed_magpie\\magpie_clean_30k.parquet\n"
     ]
    }
   ],
   "source": [
    "# Randomly sample up to num_samples rows\n",
    "if num_samples < len(df):\n",
    "    df = df.sample(n=num_samples)\n",
    "else:\n",
    "    print(f\"Requested {num_samples} samples, but only {len(df)} available. Using all rows.\")\n",
    "\n",
    "# Create new columns and process prompt\n",
    "df_out = pd.DataFrame()\n",
    "df_out['prompt'] = df['instruction'].apply(process_prompt)\n",
    "df_out['completion'] = df['response'].apply(process_response)\n",
    "\n",
    "# Ensure output directory exists\n",
    "os.makedirs(output_dir, exist_ok=True)\n",
    "\n",
    "# Save to Parquet\n",
    "output_path = os.path.join(output_dir, output_filename)\n",
    "df_out.to_parquet(output_path, index=False)\n",
    "\n",
    "print(f\"Saved {len(df_out)} samples to {output_path}\")"
   ]
  },
  {
   "cell_type": "markdown",
   "metadata": {},
   "source": [
    "# Optionally view our datasets after creating\n",
    "---\n"
   ]
  },
  {
   "cell_type": "code",
   "execution_count": 87,
   "metadata": {},
   "outputs": [
    {
     "name": "stdout",
     "output_type": "stream",
     "text": [
      "Loaded df ./train/explainer_clean_1250.parquet with length = 1250\n"
     ]
    }
   ],
   "source": [
    "# Set your parquet file path here\n",
    "# parquet_path = './train/magpie_clean_10k.parquet'\n",
    "parquet_path = './train/explainer_clean_1250.parquet'\n",
    "# parquet_path = './train/explanation_traindata_1k_cleaned.parquet'\n",
    "\n",
    "# Load the parquet file once\n",
    "view_df = pd.read_parquet(parquet_path)\n",
    "print(f\"Loaded df {parquet_path} with length = {len(view_df)}\")"
   ]
  },
  {
   "cell_type": "code",
   "execution_count": 86,
   "metadata": {},
   "outputs": [],
   "source": [
    "# # Old code used to process pre-generated data \n",
    "# def split_prompt_completion(text):\n",
    "#     \"\"\"\n",
    "#     Splits the input string into 'prompt' and 'completion' based on the marker.\n",
    "#     Returns (prompt, completion).\n",
    "#     \"\"\"\n",
    "#     marker = '<|start_header_id|>assistant<|end_header_id|>'\n",
    "#     idx = text.find(marker)\n",
    "#     prompt = text[:idx + len(marker)]\n",
    "#     completion = text[idx + len(marker):]\n",
    "#     return prompt, completion\n",
    "\n",
    "# # Loop through all rows, process, and collect results\n",
    "# prompts = []\n",
    "# completions = []\n",
    "\n",
    "# for idx, row in view_df.iterrows():\n",
    "#     prompt, completion = split_prompt_completion(row['prompt'])\n",
    "#     prompts.append(prompt)\n",
    "#     completions.append(completion)\n",
    "\n",
    "# # Create new DataFrame\n",
    "# df_processed = pd.DataFrame({\n",
    "#     'prompt': prompts,\n",
    "#     'completion': completions\n",
    "# })\n",
    "\n",
    "# # Save to Parquet\n",
    "# output_path = './train/explainer_clean_1k.parquet'\n",
    "# df_processed.to_parquet(output_path, index=False)\n",
    "# print(f\"Saved processed prompts to {output_path}\")"
   ]
  },
  {
   "cell_type": "code",
   "execution_count": 95,
   "metadata": {},
   "outputs": [
    {
     "name": "stdout",
     "output_type": "stream",
     "text": [
      "--- Sample 872 ---\n",
      "Prompt:\n",
      " <|begin_of_text|>\n",
      "<|start_header_id|>system<|end_header_id|>\n",
      "You are a chess grandmaster currently playing a very strong opponent. Assume they will be playing optimally. \n",
      "\n",
      "Shortly you'll be provided with a board state by the user -- please analyze it and think through your possible moves.\n",
      "\n",
      "You should refer to moves in UCI notation (e.g., d7d5) and should include your thinking in think tags (e.g., <think> your_thinking </think>) and your answer in answer tags (e.g., <answer> UCI_move </answer>). \n",
      "\n",
      "As a technique you may want to consider enumerating possible moves and simulating the likely trajectory that would ensue. <|eot_id|>\n",
      "<|start_header_id|>user<|end_header_id|>\n",
      "8| . . . . . . . k\n",
      "7| p . p . . . p .\n",
      "6| . p . . . p . p\n",
      "5| . . . . . . . .\n",
      "4| . . P P . . . P\n",
      "3| . P . . . K P .\n",
      "2| P . . . . R . .\n",
      "1| . . . r . . . .\n",
      "   _ _ _ _ _ _ _ _\n",
      "   A B C D E F G H\n",
      "\n",
      "- It is Black’s turn to move.\n",
      "- No castling rights available.\n",
      "- No en passant target square.\n",
      "- Halfmove clock: 2\n",
      "- Fullmove number: 37 <|eot_id|>\n",
      "<|start_header_id|>assistant<|end_header_id|>\n",
      "\n",
      "Response:\n",
      " \n",
      "Ok let's consider some moves we could make.\n",
      "<think>\n",
      "How about we analyze the line starting with black rook captures the pawn on d4 (d1d4)?\n",
      "| A strong response from them would be white rook moves to e2 (f2e2).\n",
      "| | We could then respond with black rook moves to d6 (d4d6).\n",
      "| | | They might play white pawn moves to h5 (h4h5) in response.\n",
      "This line leaves us in an equal position compared to the opponent.\n",
      "\n",
      "How about we analyze the line starting with black pawn moves to h5 (h6h5)?\n",
      "| A strong response from them would be white pawn moves to d5 (d4d5).\n",
      "| | Then we might play black rook moves to e1 (d1e1).\n",
      "| | | They might play white rook moves to e2 (f2e2) in response. They could also answer with white rook moves to c2 (f2c2). I would expect them to play white rook moves to e2 (f2e2) as that is their better move.\n",
      "| | We could also try black king moves to g8 (h8g8).\n",
      "| | | They could respond with white rook moves to e2 (f2e2).\n",
      "| | We could also try black rook moves to d3 putting the king in check (d1d3).\n",
      "| | | They could respond with white king moves to f4 (f3f4).\n",
      "| | Of our possible moves (d1e1, h8g8, and d1d3) and after thinking through how the opponent would respond, our best play would be black rook moves to d3 putting the king in check (d1d3).\n",
      "Looking at this, our position seems marginally behind.\n",
      "\n",
      "Ok, what if we played black king moves to g8 (h8g8)?\n",
      "| They might play white pawn moves to d5 (d4d5) in response.\n",
      "| | We could follow with black rook moves to d3 putting the king in check (d1d3).\n",
      "| | | They could respond with white king moves to g2 (f3g2).\n",
      "This position seems slightly better for the opponent.\n",
      "\n",
      "What if we played black rook moves to d3 putting the king in check (d1d3)?\n",
      "| They might play white king moves to e4 (f3e4) in response.\n",
      "| | We could then respond with black rook captures the pawn on g3 (d3g3).\n",
      "| | | A smart move from them could be white king moves to d5 (e4d5).\n",
      "Looking at this, our position seems marginally behind.\n",
      "\n",
      "Ok let's consider starting with black king moves to h7 (h8h7).\n",
      "| A strong response from them would be white pawn moves to d5 (d4d5).\n",
      "| | What if we then played black rook moves to d3 putting the king in check (d1d3)?\n",
      "| | | A smart move from them could be white king moves to f4 (f3f4).\n",
      "This line leaves us a bit worse off.\n",
      "\n",
      "Given how each line would evolve we should pick black rook captures the pawn on d4 (d1d4) as this puts us in the best position.\n",
      "</think>\n",
      "\n",
      "<answer> d1d4 </answer>\n",
      "<eot_id>\n",
      "\n",
      "========================================\n",
      "\n"
     ]
    }
   ],
   "source": [
    "# Helper function\n",
    "def print_random_sample(n=1):\n",
    "    \"\"\"Print n random samples from the dataframe.\"\"\"\n",
    "    sample = view_df.sample(n=n)\n",
    "    for idx, row in sample.iterrows():\n",
    "        print(f\"--- Sample {idx} ---\")\n",
    "        print(\"Prompt:\\n\", row['prompt'])\n",
    "        print(\"\\nResponse:\\n\", row['completion'])\n",
    "        print(\"\\n\" + \"=\"*40 + \"\\n\")\n",
    "\n",
    "# Call this function to print a random sample\n",
    "print_random_sample()  # You can change the argument to print more than one sample"
   ]
  }
 ],
 "metadata": {
  "kernelspec": {
   "display_name": "llm_chess",
   "language": "python",
   "name": "python3"
  },
  "language_info": {
   "codemirror_mode": {
    "name": "ipython",
    "version": 3
   },
   "file_extension": ".py",
   "mimetype": "text/x-python",
   "name": "python",
   "nbconvert_exporter": "python",
   "pygments_lexer": "ipython3",
   "version": "3.11.11"
  }
 },
 "nbformat": 4,
 "nbformat_minor": 2
}
