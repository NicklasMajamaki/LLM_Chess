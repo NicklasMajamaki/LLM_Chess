{
 "cells": [
  {
   "cell_type": "code",
   "execution_count": 1,
   "id": "4f056c0d",
   "metadata": {},
   "outputs": [],
   "source": [
    "import os\n",
    "import json\n",
    "import random"
   ]
  },
  {
   "cell_type": "code",
   "execution_count": 2,
   "id": "76399322",
   "metadata": {},
   "outputs": [
    {
     "name": "stdout",
     "output_type": "stream",
     "text": [
      "Loaded and shuffled 100 items from ./saved_data\\bestmove_spaced_fen_100_20250419-013248.json.\n"
     ]
    }
   ],
   "source": [
    "filename = \"bestmove_spaced_fen_100_20250419-013248.json\"\n",
    "file_path = os.path.join('./saved_data', filename)\n",
    "\n",
    "with open(file_path, 'r') as f:\n",
    "    data = json.load(f)\n",
    "\n",
    "random.shuffle(data)\n",
    "print(f\"Loaded and shuffled {len(data)} items from {file_path}.\")"
   ]
  },
  {
   "cell_type": "code",
   "execution_count": 4,
   "id": "9a31297f",
   "metadata": {},
   "outputs": [
    {
     "name": "stdout",
     "output_type": "stream",
     "text": [
      "\n",
      "Random Sample:\n",
      "prompt: Please analyze the following board:\n",
      "The following is a board provided in Forsyth-Edwards Notation (FEN) where the rank decreases from 8 to 1 and white pieces are uppercase with black pieces being lowercase.\n",
      "r 5 k 1 / 1 p p q r p p p / p 1 n 2 b 2 / 2 P p 1 n 2 / 1 P 1 P 4 / P 1 N Q B N 2 / 5 P P P / 2 R 1 R 1 K 1  w - - 1 20\n",
      "\n",
      "From the following moves: ['d3c4', 'c3b5', 'g1f1', 'd3e4', 'g2g4'], choose the best move and return it within answer tags such that your response is <answer> 'best_move' </answer>. \n",
      "\n",
      "You may think through it step by step but must end with your response in the answer tags.\n",
      "ground_truth: ('g1f1', ['d3c4', 'c3b5', 'g1f1', 'd3e4', 'g2g4'])\n",
      "model_response: To determine the best move, let's first understand the given position using the FEN notation:\n",
      "\n",
      "`r 5 k 1 / 1 p p q r p p p / p 1 n 2 b 2 / 2 P p 1 n 2 / 1 P 1 P 4 / P 1 N Q B N 2 / 5 P P P / 2 R 1 R 1 K 1`\n",
      "\n",
      "Let's decode this FEN string:\n",
      "- Rank 8: `r 5 k 1` = Black Rook, empty squares (5), Black King, empty square\n",
      "- Rank 7: `1 p p q r p p p` = empty square, Black Pawns (3), Black Queen, Black Rook, Black Pawns (3)\n",
      "- Rank 6: `p 1 n 2 b 2` = Black Pawn, empty square, Black Knight, empty squares (2), Black Bishop, empty square(s) implied as 2\n",
      "- Rank 5: `2 P p 1 n 2` = empty squares (2), White Pawn, Black Pawn, empty square, Black Knight, empty squares (2)\n",
      "- Rank 4: `1 P 1 P 4` = empty square, White Pawn, empty square, White Pawn, empty squares (4)\n",
      "- Rank 3: `P 1 N Q B N 2` = White Pawn, empty square, White Knight, White Queen, White Bishop, White Knight, empty squares (2)\n",
      "- Rank 2: `5 P P P` = empty squares (5), White Pawns (3)\n",
      "- Rank 1: `2 R 1 R 1 K 1` = empty squares (2), White Rook, empty square, White Rook, empty square, White King, empty square\n",
      "\n",
      "Thus, we have a complex position with both sides having developed their pieces.\n",
      "\n",
      "First, observe the key aspects of the position:\n",
      "1. **White's King Safety**: The White King is somewhat exposed on g1 (or f1 if we consider potential castling or king movement). However, it's relatively safe for now due to the presence of its pieces around it.\n",
      "   \n",
      "2. **Black's Position**: Black has a reasonably solid structure but lacks coordination among some pieces. Their King is also somewhat exposed.\n",
      "\n",
      "Given Moves:\n",
      "1. `d3c4`\n",
      "2. `c3b5`\n",
      "3. `g1f1`\n",
      "4. `d3e4`\n",
      "5. `g2g4`\n",
      "\n",
      "Analyzing these moves:\n",
      "- **`d3c4`**: This involves moving the White Queen from c3 to c4. It could potentially put pressure on Black's position but might not be immediately decisive without understanding the specific threats or benefits at c4.\n",
      "\n",
      "- **`c3b5` (if assuming the queen is on c3) or more likely `c3b3` isn't an option but `Qc3` suggests involvement in controlling certain central squares or putting indirect pressure**. If `c3` refers to another piece or incorrect interpretation, reevaluation is needed; however, typically we'd expect `Qc3`. Assuming `Qc3`, then `Qb5` seems plausible, attacking potential weaknesses.\n",
      "\n",
      "- **`g1f1`**: Moving the King towards the center or preparing to safeguard it further doesn't seem directly aggressive but can improve King's safety slightly or reposition for other maneuvers like connecting rooks indirectly.\n",
      "\n",
      "- **`d3e4`**: If we're considering a piece on d3 (likely a knight since there's a White Knight on N on the third rank which corresponds to \"N\" on d3 or f3 based on standard algebraic notation translation), jumping to e4 would aim to control the center, possibly challenge Black's pawn or knight there.\n",
      "\n",
      "- **`g2g4`**: A pawn push that starts a kingside expansion or prepares to potentially weaken Black's kingside pawns or create space.\n",
      "\n",
      "Without exact piece locations derived directly, we'll simplify our thought process focusing on general strategic principles and available information.\n",
      "\n",
      "**Step-by-Step Analysis**:\n",
      "1. Assess material equality or imbalance: Not explicitly detailed here, so assume relative balance unless specified otherwise.\n",
      "2. Evaluate positional factors like pawn structures, piece development, and control over critical areas.\n",
      "\n",
      "Upon closer inspection and simplification, one should ideally convert FEN into a visual representation or utilize knowledge about typical middlegame strategies.\n",
      "\n",
      "For simplicity and sticking strictly to analysis without visualizing:\n",
      "- We need to assess direct tactical opportunities or significant strategic improvements.\n",
      "\n",
      "Since precise initial positions aren't visually confirmed except via FEN decoding:\n",
      "- Let's directly evaluate candidate moves under common scenarios.\n",
      "\n",
      "Directly choosing between options requires deeper insight into current positional/ tactical motifs.\n",
      "\n",
      "After examining possible moves and simplifications, I conclude as follows:\n",
      "\n",
      "<answer>'g1f1'</answer>\n",
      "\n",
      "However, actual decision-making depends heavily on specifics like whether any immediate tactics exist, assessments of long-term positional considerations (like structural changes, weak points), etc., necessitating either deep engine-based evaluation or manual exhaustive search—both constrained here by format.\n",
      "\n",
      "Therefore, my simplified rationale concludes with suggesting a safer king-side precaution (`g1f1`), although detailed preference demands thorough assessment beyond present constraints.\n"
     ]
    }
   ],
   "source": [
    "sample = random.choice(data)\n",
    "print(\"\\nRandom Sample:\")\n",
    "print(\"prompt:\", sample.get('prompt', 'N/A'))\n",
    "print(\"ground_truth:\", sample.get('ground_truth', 'N/A'))\n",
    "print(\"model_response:\", sample.get('model_response', 'N/A'))"
   ]
  }
 ],
 "metadata": {
  "kernelspec": {
   "display_name": "llm_chess",
   "language": "python",
   "name": "python3"
  },
  "language_info": {
   "codemirror_mode": {
    "name": "ipython",
    "version": 3
   },
   "file_extension": ".py",
   "mimetype": "text/x-python",
   "name": "python",
   "nbconvert_exporter": "python",
   "pygments_lexer": "ipython3",
   "version": "3.11.11"
  }
 },
 "nbformat": 4,
 "nbformat_minor": 5
}
