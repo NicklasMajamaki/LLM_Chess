{
 "cells": [
  {
   "cell_type": "markdown",
   "id": "3aefb278",
   "metadata": {},
   "source": [
    "# Eval Generation\n",
    "---\n",
    "Notebook takes in our eval dataset and generates our various desired eval datasets we can load in.\n",
    "\n",
    "These will be saved as parquets in the evals folder."
   ]
  },
  {
   "cell_type": "code",
   "execution_count": 1,
   "id": "2ba9b81f",
   "metadata": {},
   "outputs": [],
   "source": [
    "import ast\n",
    "import random\n",
    "import pandas as pd\n",
    "\n",
    "import chess"
   ]
  },
  {
   "cell_type": "code",
   "execution_count": 2,
   "id": "df1d7f8a",
   "metadata": {},
   "outputs": [],
   "source": [
    "# Import as a dataframe\n",
    "file_path = './raw/evals_1k.csv'\n",
    "df = pd.read_csv(file_path)\n",
    "\n",
    "# Need to convert from string to lists\n",
    "df['Move'] = df['Move'].apply(ast.literal_eval)\n",
    "df['Win Probability'] = df['Win Probability'].apply(ast.literal_eval)"
   ]
  },
  {
   "cell_type": "markdown",
   "id": "626a4b22",
   "metadata": {},
   "source": [
    "### List all Legal Moves for piece / board state\n",
    "---\n",
    "Given a piece and a board state, list all legal moves — 50 examples. Will measure:\n",
    "- % of legal moves predicted ($\\frac{\\text{num legal moves predicted}}{\\text{num total legal moves}}$)\n",
    "- % of moves predicted that were legal ($\\frac{\\text{num legal moves predicted}}{\\text{total num moves predicted}}$)\n",
    "- % Error Rate (not following parse directions)"
   ]
  },
  {
   "cell_type": "code",
   "execution_count": 3,
   "id": "6e293a3b",
   "metadata": {},
   "outputs": [],
   "source": [
    "def get_piece_name_at_location(fen, location):\n",
    "    board = chess.Board(fen)\n",
    "    square = chess.parse_square(location)\n",
    "    piece = board.piece_at(square)\n",
    "    \n",
    "    if piece is None:\n",
    "        return None\n",
    "\n",
    "    color = 'white' if piece.color == chess.WHITE else 'black'\n",
    "    name = piece.piece_type  # this gives an int (1-6)\n",
    "    name_str = chess.piece_name(name)  # maps int to string name like 'bishop'\n",
    "\n",
    "    return f\"{color} {name_str}\""
   ]
  },
  {
   "cell_type": "code",
   "execution_count": null,
   "id": "4af81aed",
   "metadata": {},
   "outputs": [
    {
     "name": "stdout",
     "output_type": "stream",
     "text": [
      "Number of samples generated for the legal moves eval: 50\n"
     ]
    }
   ],
   "source": [
    "min_moves = 2\n",
    "desired_samples = 50\n",
    "boards = []\n",
    "prompts = []\n",
    "answers = []\n",
    "\n",
    "# Shuffle dataframe and make a deep copy of it\n",
    "legalmoves_df = df.sample(frac=1, ignore_index=True).copy(deep=True)\n",
    "\n",
    "# Iterate through and get samples\n",
    "for index, row in legalmoves_df.iterrows():\n",
    "    if len(prompts) >= desired_samples:\n",
    "        break\n",
    "    \n",
    "    # Otherwise get possible moves from the board\n",
    "    board = row['FEN']\n",
    "    moveset = row['Move']\n",
    "\n",
    "    # Get the counts of the various pieces in the moveset\n",
    "    piece_counts = {}\n",
    "    for move in moveset:\n",
    "        piece_pos = move[:2]\n",
    "        piece_counts[piece_pos] = piece_counts.get(piece_pos, 0) + 1\n",
    "    valid_pieces = [k for k, v in piece_counts.items() if v >= min_moves]\n",
    "    if not valid_pieces:\n",
    "        continue  # Skip if no valid pieces w/ enough moves\n",
    "\n",
    "    # Sample a piece from the valid pieces\n",
    "    piece = random.choice(valid_pieces)\n",
    "    piece_name = get_piece_name_at_location(board, piece)\n",
    "    if piece_name is None:\n",
    "        print(f\"Piece not found at {piece} in FEN: {board}\")\n",
    "        continue\n",
    "    prompt = f\"Given the board state in FEN notation (starting with rank 8 decreasing to rank 1):\\n{board}\\n\\nPlease give a list of all legal moves for the {piece_name} at {piece}.\\n\\nProvide your answer within answer tags <answer> [list of moves] </answer> where you give a list of moves. The moves should be in the format of position notation starting with the current square (e.g., b2c3 which means you move from position b2 to position c3). You're welcome to think through it step by step but must return your response in the answer tags.\"\n",
    "    prompts.append(prompt)\n",
    "\n",
    "    legal_moves = [move for move in moveset if move.startswith(piece)]\n",
    "    answers.append(legal_moves)\n",
    "    boards.append(board) # Store board so we can visualize\n",
    "\n",
    "# Create a new dataframe with the prompts and answers\n",
    "df_new = pd.DataFrame({\n",
    "    'board': boards,\n",
    "    'prompt': prompts,\n",
    "    'answer': answers\n",
    "})\n",
    "print(f\"Number of samples generated for the legal moves eval: {len(df_new)}\")\n",
    "\n",
    "# Save the new dataframe to a parquet file\n",
    "df_new.to_parquet(f'./evals/legalmoves_{len(df_new)}.parquet', index=False)"
   ]
  },
  {
   "cell_type": "markdown",
   "id": "3d6b3e29",
   "metadata": {},
   "source": [
    "### Given a list of submoves, predict the worst move\n",
    "---\n"
   ]
  },
  {
   "cell_type": "markdown",
   "id": "d24a7100",
   "metadata": {},
   "source": []
  }
 ],
 "metadata": {
  "kernelspec": {
   "display_name": "llm_chess",
   "language": "python",
   "name": "python3"
  },
  "language_info": {
   "codemirror_mode": {
    "name": "ipython",
    "version": 3
   },
   "file_extension": ".py",
   "mimetype": "text/x-python",
   "name": "python",
   "nbconvert_exporter": "python",
   "pygments_lexer": "ipython3",
   "version": "3.11.11"
  }
 },
 "nbformat": 4,
 "nbformat_minor": 5
}
