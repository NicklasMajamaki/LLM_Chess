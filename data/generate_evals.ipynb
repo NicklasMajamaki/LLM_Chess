{
 "cells": [
  {
   "cell_type": "markdown",
   "id": "3aefb278",
   "metadata": {},
   "source": [
    "# Eval Generation\n",
    "---\n",
    "Notebook takes in our eval dataset and generates our various desired eval datasets we can load in"
   ]
  },
  {
   "cell_type": "code",
   "execution_count": null,
   "id": "2ba9b81f",
   "metadata": {},
   "outputs": [],
   "source": [
    "import ast\n",
    "import pandas as pd"
   ]
  },
  {
   "cell_type": "code",
   "execution_count": null,
   "id": "df1d7f8a",
   "metadata": {},
   "outputs": [],
   "source": [
    "# Import as a dataframe\n",
    "file_path = './raw/evals_1k.csv'\n",
    "df = pd.read_csv(file_path)\n",
    "\n",
    "# Need to convert from string to lists\n",
    "df['Move'] = df['Move'].apply(ast.literal_eval)\n",
    "df['Win Probability'] = df['Win Probability'].apply(ast.literal_eval)"
   ]
  }
 ],
 "metadata": {
  "language_info": {
   "name": "python"
  }
 },
 "nbformat": 4,
 "nbformat_minor": 5
}
